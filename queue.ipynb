{
 "cells": [
  {
   "cell_type": "markdown",
   "metadata": {},
   "source": [
    "# Queue : Queue is a linear datastructure which follows the principle of FIFO (First in First out). The element that got added firstly gets removed from the queue firstly.\n",
    "it is open at both the end, the end from where we add new elements is called tail, and the end from where we remove elements is called head.\n",
    "# Operations : \n",
    "1. Creating a queue\n",
    "2. Enqueue : Adding new elements to the queue\n",
    "3. Dequeue : Removing element from the queue\n",
    "4. Peek_in_queue : for finding the peek element in queue\n",
    "5. Delete : For making the queue empty\n",
    "\n"
   ]
  },
  {
   "cell_type": "code",
   "execution_count": 1,
   "metadata": {},
   "outputs": [],
   "source": [
    "class queue:\n",
    "    def __init__(self,length):\n",
    "        self.queue = []\n",
    "        self.maxlength = length\n",
    "        self.size = 0\n",
    "\n",
    "    def Enqueue(self,element):\n",
    "        if self.IsFull():\n",
    "            print(\"Queue is Full\")\n",
    "\n",
    "        else:\n",
    "            self.queue.append(element)\n",
    "            self.size+=1\n",
    "            print(\"Element added to the queue!!!\")\n",
    "\n",
    "\n",
    "    def IsFull(self):\n",
    "        if self.size == self.maxlength:\n",
    "            return True\n",
    "\n",
    "        else:\n",
    "            return False\n",
    "\n",
    "    def Dequeue(self):\n",
    "        if self.IsEmpty():\n",
    "            print(\"Queue is Empty!!!\")\n",
    "\n",
    "        else:\n",
    "            self.queue.pop(0)\n",
    "\n",
    "    def IsEmpty(self):\n",
    "        if self.size == 0:\n",
    "            return True\n",
    "        else:\n",
    "            return False\n",
    "\n",
    "    def display(self):\n",
    "        print(self.queue)\n",
    "\n",
    "    def peek_in_queue(self):\n",
    "        return self.queue[0]\n",
    "\n",
    "    def get_queue(self):\n",
    "        return self.queue\n",
    "\n",
    "    def delete(self):\n",
    "        if self.IsEmpty():\n",
    "            print(\"Queue is Empty!!!\")\n",
    "\n",
    "        else:\n",
    "            # while self.size!=0:\n",
    "            #     self.queue.pop(0)\n",
    "\n",
    "            self.queue = []\n",
    "\n",
    "            print(\"Queue is Empty now!!!\")"
   ]
  },
  {
   "cell_type": "code",
   "execution_count": 3,
   "metadata": {},
   "outputs": [],
   "source": [
    "Queue = queue(5)"
   ]
  },
  {
   "cell_type": "code",
   "execution_count": 9,
   "metadata": {},
   "outputs": [
    {
     "name": "stdout",
     "output_type": "stream",
     "text": [
      "Element added to the queue!!!\n"
     ]
    }
   ],
   "source": [
    "Queue.Enqueue(17)"
   ]
  },
  {
   "cell_type": "code",
   "execution_count": 20,
   "metadata": {},
   "outputs": [
    {
     "name": "stdout",
     "output_type": "stream",
     "text": [
      "[]\n"
     ]
    }
   ],
   "source": [
    "Queue.display()"
   ]
  },
  {
   "cell_type": "code",
   "execution_count": 18,
   "metadata": {},
   "outputs": [
    {
     "data": {
      "text/plain": [
       "[13, 17]"
      ]
     },
     "execution_count": 18,
     "metadata": {},
     "output_type": "execute_result"
    }
   ],
   "source": [
    "Queue.get_queue()"
   ]
  },
  {
   "cell_type": "code",
   "execution_count": 15,
   "metadata": {},
   "outputs": [],
   "source": [
    "Queue.Dequeue()"
   ]
  },
  {
   "cell_type": "code",
   "execution_count": 17,
   "metadata": {},
   "outputs": [
    {
     "data": {
      "text/plain": [
       "13"
      ]
     },
     "execution_count": 17,
     "metadata": {},
     "output_type": "execute_result"
    }
   ],
   "source": [
    "Queue.peek_in_queue()"
   ]
  },
  {
   "cell_type": "code",
   "execution_count": 19,
   "metadata": {},
   "outputs": [
    {
     "name": "stdout",
     "output_type": "stream",
     "text": [
      "Queue is Empty now!!!\n"
     ]
    }
   ],
   "source": [
    "Queue.delete()"
   ]
  },
  {
   "cell_type": "code",
   "execution_count": null,
   "metadata": {},
   "outputs": [],
   "source": [
    "# # Write a program to find the peak element in an array.\n",
    "# peak element is the element which is greater than both its neighbour elements, corner elements will have just one neighbour element\n",
    "# e.g array - [10,15,12,9,14,11,16]\n",
    "# peak element - [15,14,16]"
   ]
  },
  {
   "cell_type": "code",
   "execution_count": null,
   "metadata": {},
   "outputs": [],
   "source": [
    "array = [10,12,9,14,16,15,20,11,19,9,21]\n",
    "peak_element = []\n",
    "for i in range(len(array)):\n",
    "    if i == 0:\n",
    "        if array[i]>array[i+1]:\n",
    "            peak_element.append(array[i])\n",
    "\n",
    "        elif i == len(array)-1:\n",
    "            if array[i]>array[i-1]:\n",
    "                peak_element.append(array[i])\n",
    "\n",
    "        else:\n",
    "            if array[i]> array[i+1] and array[i]>array[i-1]:\n",
    "                peak_element.append(array[i])\n",
    "\n",
    "print(\"Peak elements :\",peak_element)\n",
    "\n",
    "\n"
   ]
  },
  {
   "cell_type": "markdown",
   "metadata": {},
   "source": [
    "check if all the brackets are balanced in a given equation using stack datastructure: \n",
    "e.g [(4+3)*{(6-3)+(4/2)-(9/3)}]\n",
    "output : Balanced\n",
    "\n",
    "e.g  [(4+3)*{(6-3+(4/2)-(9/3)]}\n",
    "output : Not Balanced"
   ]
  },
  {
   "cell_type": "markdown",
   "metadata": {},
   "source": [
    "Hint : whenever you get an opening bracket push it into the stack, and whenever you get a closing bracket pop out the last element from the stack, compare the two brackets \n",
    "if they are matching pair \n",
    "--move ahead and do the same process till the end of the equation \n",
    "else: say unbalanced parathesis\n",
    "\n",
    "at the end if you find the stack empty so it means brackets are balanced.\n",
    "else: they are not balanced.\n"
   ]
  },
  {
   "cell_type": "code",
   "execution_count": null,
   "metadata": {},
   "outputs": [],
   "source": []
  }
 ],
 "metadata": {
  "kernelspec": {
   "display_name": "Python 3",
   "language": "python",
   "name": "python3"
  },
  "language_info": {
   "codemirror_mode": {
    "name": "ipython",
    "version": 3
   },
   "file_extension": ".py",
   "mimetype": "text/x-python",
   "name": "python",
   "nbconvert_exporter": "python",
   "pygments_lexer": "ipython3",
   "version": "3.9.13"
  },
  "orig_nbformat": 4
 },
 "nbformat": 4,
 "nbformat_minor": 2
}
