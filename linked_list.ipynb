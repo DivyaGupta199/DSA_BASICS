{
 "cells": [
  {
   "cell_type": "code",
   "execution_count": 1,
   "metadata": {},
   "outputs": [],
   "source": [
    "class Node:\n",
    "    def __init__(self,data):\n",
    "        self.info = data\n",
    "        self.pointer = None"
   ]
  },
  {
   "cell_type": "code",
   "execution_count": 107,
   "metadata": {},
   "outputs": [],
   "source": [
    "class linked_list:\n",
    "    def __init__(self):\n",
    "        self.head = None\n",
    "\n",
    "    def insert_at_end(self,data):\n",
    "        new_node = Node(data)\n",
    "        if self.head is None:\n",
    "            self.head = new_node\n",
    "        else:\n",
    "            temp_node = self.head\n",
    "            while temp_node.pointer is not None:\n",
    "                temp_node = temp_node.pointer\n",
    "\n",
    "            temp_node.pointer = new_node\n",
    "\n",
    "    def insert_at_begin(self,data):\n",
    "        new_node = Node(data)\n",
    "        if self.head is None:\n",
    "            self.head = new_node\n",
    "        else:\n",
    "            new_node.pointer = self.head\n",
    "            self.head = new_node\n",
    "\n",
    "    def remove_node(self,data):\n",
    "        if self.head == None:\n",
    "            print(\"Linked list is Empty\")\n",
    "\n",
    "        else:\n",
    "            current_node = self.head\n",
    "            previous_node = self.head\n",
    "\n",
    "        while current_node.pointer is not None:\n",
    "            if current_node.info == data:\n",
    "                next_node = current_node.pointer\n",
    "                previous_node.pointer = next_node\n",
    "                break\n",
    "            \n",
    "            else:\n",
    "                previous_node = current_node\n",
    "                current_node = current_node.pointer\n",
    "\n",
    "    def display(self):\n",
    "        if self.head == None:\n",
    "            print(\"Linked link is Empty\")\n",
    "\n",
    "        else:\n",
    "            temp_node = self.head\n",
    "            while temp_node.pointer is not None:\n",
    "                print(temp_node.info,end = \"---->\")\n",
    "                temp_node = temp_node.pointer\n",
    "\n",
    "            print(temp_node.info)\n",
    "\n",
    "    def delete(self):\n",
    "        if self.head == None:\n",
    "            print(\"Linked link is Empty\")\n",
    "\n",
    "        else:\n",
    "            self.head = None\n",
    "\n",
    "    def delete(self):\n",
    "        if self.head == None:\n",
    "            print(\"Linked link is Empty\")\n",
    "\n",
    "        else:\n",
    "            temp_node = self.head\n",
    "            while temp_node.pointer is not None:\n",
    "                temp_node = temp_node.pointer\n",
    "                previous_node = temp_node\n",
    "                self.remove_node(previous_node.info)\n",
    "                self.display()\n",
    "\n",
    "            self.head = None\n",
    "            \n",
    "\n"
   ]
  },
  {
   "cell_type": "code",
   "execution_count": 114,
   "metadata": {},
   "outputs": [],
   "source": [
    "link_list = linked_list()"
   ]
  },
  {
   "cell_type": "code",
   "execution_count": 117,
   "metadata": {},
   "outputs": [
    {
     "name": "stdout",
     "output_type": "stream",
     "text": [
      "10---->20---->30---->40---->50---->60---->70\n"
     ]
    }
   ],
   "source": [
    "link_list.display()"
   ]
  },
  {
   "cell_type": "code",
   "execution_count": 116,
   "metadata": {},
   "outputs": [],
   "source": [
    "link_list.insert_at_end(10)\n",
    "link_list.insert_at_end(20)\n",
    "link_list.insert_at_end(30)\n",
    "link_list.insert_at_end(40)\n",
    "link_list.insert_at_end(50)\n",
    "link_list.insert_at_end(60)\n",
    "link_list.insert_at_end(70)"
   ]
  },
  {
   "cell_type": "code",
   "execution_count": 118,
   "metadata": {},
   "outputs": [
    {
     "name": "stdout",
     "output_type": "stream",
     "text": [
      "10---->30---->40---->50---->60---->70\n",
      "10---->40---->50---->60---->70\n",
      "10---->50---->60---->70\n",
      "10---->60---->70\n",
      "10---->70\n",
      "10---->70\n"
     ]
    }
   ],
   "source": [
    "link_list.delete()"
   ]
  },
  {
   "cell_type": "code",
   "execution_count": 56,
   "metadata": {},
   "outputs": [],
   "source": [
    "link_list.delete()"
   ]
  }
 ],
 "metadata": {
  "kernelspec": {
   "display_name": "Python 3",
   "language": "python",
   "name": "python3"
  },
  "language_info": {
   "codemirror_mode": {
    "name": "ipython",
    "version": 3
   },
   "file_extension": ".py",
   "mimetype": "text/x-python",
   "name": "python",
   "nbconvert_exporter": "python",
   "pygments_lexer": "ipython3",
   "version": "3.9.13"
  },
  "orig_nbformat": 4
 },
 "nbformat": 4,
 "nbformat_minor": 2
}
