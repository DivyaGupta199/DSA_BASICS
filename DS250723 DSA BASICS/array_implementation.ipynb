{
 "cells": [
  {
   "cell_type": "code",
   "execution_count": 32,
   "metadata": {},
   "outputs": [
    {
     "name": "stdout",
     "output_type": "stream",
     "text": [
      "[]\n"
     ]
    }
   ],
   "source": [
    "class array:\n",
    "    def __init__(self,length):\n",
    "        self.array = []\n",
    "        self.maxlength = length\n",
    "        self.size = 0\n",
    "\n",
    "    def add_element(self,data):\n",
    "        if self.is_full():\n",
    "            print(\"Array is Full\")\n",
    "\n",
    "        else:\n",
    "            if self.size == 0:\n",
    "                self.array.append(data)\n",
    "                self.size+=1\n",
    "\n",
    "            else:\n",
    "                if type(data) == type(self.array[0]):\n",
    "                    self.array.append(data)\n",
    "                    self.size+=1\n",
    "\n",
    "                else:\n",
    "                    print(\"Data type not Matching\")\n",
    "\n",
    "\n",
    "    def is_full(self):\n",
    "        if self.size == self.maxlength:\n",
    "            return True\n",
    "        else:\n",
    "            return False\n",
    "        \n",
    "    def remove_element(self,data):\n",
    "        if self.size>0:\n",
    "            self.array.remove(data)\n",
    "            self.size-=1\n",
    "            print(\"Element removed successfully!!!\")\n",
    "            return True\n",
    "\n",
    "        else:\n",
    "            print(\"Array is Empty\")\n",
    "            return False\n",
    "\n",
    "    def display(self):\n",
    "        print(self.array)\n",
    "\n",
    "    def find_element(self,element):\n",
    "        if element in self.array:\n",
    "            print(\"Element Found\")\n",
    "            return self.array.index(element)\n",
    "        \n",
    "        else:\n",
    "            print(\"Element Not found\")\n",
    "            return False\n",
    "        \n",
    "    def update_element(self,index,element):\n",
    "        if self.size-1<index:\n",
    "            print(\"Index out of Range\")\n",
    "            return False\n",
    "        else:\n",
    "            self.array[index] = element\n",
    "            print(\"Array updated!!!\")\n",
    "            return True\n",
    "\n",
    "\n",
    "array = array(5)\n",
    "array.display()"
   ]
  },
  {
   "cell_type": "code",
   "execution_count": 7,
   "metadata": {},
   "outputs": [
    {
     "name": "stdout",
     "output_type": "stream",
     "text": [
      "Array is Empty\n"
     ]
    },
    {
     "data": {
      "text/plain": [
       "False"
      ]
     },
     "execution_count": 7,
     "metadata": {},
     "output_type": "execute_result"
    }
   ],
   "source": [
    "array.remove_element(5)"
   ]
  },
  {
   "cell_type": "code",
   "execution_count": 39,
   "metadata": {},
   "outputs": [],
   "source": [
    "array.add_element(21)"
   ]
  },
  {
   "cell_type": "code",
   "execution_count": 42,
   "metadata": {},
   "outputs": [
    {
     "name": "stdout",
     "output_type": "stream",
     "text": [
      "[17, 10, 7, 11, 21]\n"
     ]
    }
   ],
   "source": [
    "array.display()"
   ]
  },
  {
   "cell_type": "code",
   "execution_count": 23,
   "metadata": {},
   "outputs": [
    {
     "name": "stdout",
     "output_type": "stream",
     "text": [
      "Element removed successfully!!!\n"
     ]
    },
    {
     "data": {
      "text/plain": [
       "True"
      ]
     },
     "execution_count": 23,
     "metadata": {},
     "output_type": "execute_result"
    }
   ],
   "source": [
    "array.remove_element(7)"
   ]
  },
  {
   "cell_type": "code",
   "execution_count": 41,
   "metadata": {},
   "outputs": [
    {
     "name": "stdout",
     "output_type": "stream",
     "text": [
      "Array updated!!!\n"
     ]
    },
    {
     "data": {
      "text/plain": [
       "True"
      ]
     },
     "execution_count": 41,
     "metadata": {},
     "output_type": "execute_result"
    }
   ],
   "source": [
    "array.update_element(3,11)"
   ]
  },
  {
   "cell_type": "code",
   "execution_count": 44,
   "metadata": {},
   "outputs": [
    {
     "name": "stdout",
     "output_type": "stream",
     "text": [
      "Element Found\n"
     ]
    },
    {
     "data": {
      "text/plain": [
       "0"
      ]
     },
     "execution_count": 44,
     "metadata": {},
     "output_type": "execute_result"
    }
   ],
   "source": [
    "array.find_element(17)"
   ]
  }
 ],
 "metadata": {
  "kernelspec": {
   "display_name": "Python 3",
   "language": "python",
   "name": "python3"
  },
  "language_info": {
   "codemirror_mode": {
    "name": "ipython",
    "version": 3
   },
   "file_extension": ".py",
   "mimetype": "text/x-python",
   "name": "python",
   "nbconvert_exporter": "python",
   "pygments_lexer": "ipython3",
   "version": "3.9.13"
  },
  "orig_nbformat": 4
 },
 "nbformat": 4,
 "nbformat_minor": 2
}
