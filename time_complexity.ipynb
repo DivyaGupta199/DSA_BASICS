{
 "cells": [
  {
   "cell_type": "code",
   "execution_count": null,
   "metadata": {},
   "outputs": [],
   "source": []
  },
  {
   "cell_type": "markdown",
   "metadata": {},
   "source": [
    "Time complexity : It is the time taken by the algorithm or the program to get executed, we count the number of operations performed by the algorithm assuming that all the operations will take equal amount of time."
   ]
  },
  {
   "cell_type": "markdown",
   "metadata": {},
   "source": [
    "Three scenario's are observed while calculating the time complexity : \n",
    "1. Best case scenario (Omega) :\n",
    "2. worst case scenario (Big O) :\n",
    "3. Average case scenario (Theta)"
   ]
  },
  {
   "cell_type": "code",
   "execution_count": 4,
   "metadata": {},
   "outputs": [
    {
     "name": "stdout",
     "output_type": "stream",
     "text": [
      "Number found at index : 3\n",
      "4\n"
     ]
    }
   ],
   "source": [
    "# linear search : O(n)\n",
    "array = [12,14,11,16,19,23,24,15]\n",
    "search = int(input(\"Enter a number : \"))\n",
    "count = 0\n",
    "for i in array:\n",
    "    count +=1\n",
    "    if i == search:\n",
    "        print(\"Number found at index :\", array.index(i))\n",
    "        break\n",
    "\n",
    "print(count)\n"
   ]
  },
  {
   "cell_type": "markdown",
   "metadata": {},
   "source": [
    "usually we take worst case scenario to calculate the time complexity :\n",
    "Time complexities                   Notation\n",
    "constant time                           O(1)\n",
    "logarithmic time complexity             O(logn)\n",
    "linear time                             O(n)\n",
    "Quadratic time complexity               O(n^2)\n",
    "Exponential time complexity             O(2^n)\n",
    "Factorial time complexity               O(n!)"
   ]
  },
  {
   "cell_type": "code",
   "execution_count": 5,
   "metadata": {},
   "outputs": [
    {
     "name": "stdout",
     "output_type": "stream",
     "text": [
      "Divya\n"
     ]
    }
   ],
   "source": [
    "# constant time complexity -  O(1)\n",
    "data = input(\"Enter your name : \")\n",
    "print(data)"
   ]
  },
  {
   "cell_type": "code",
   "execution_count": 9,
   "metadata": {},
   "outputs": [
    {
     "name": "stdout",
     "output_type": "stream",
     "text": [
      "0\n",
      "[1, 2, 3, 4, 5, 6, 7, 8, 9, 10]\n",
      "1\n",
      "[6, 7, 8, 9, 10]\n",
      "2\n",
      "[8, 9, 10]\n",
      "Match found\n"
     ]
    }
   ],
   "source": [
    "# Logarithmic time complexity - O(logn)\n",
    "\n",
    "lst = [1,2,3,4,5,6,7,8,9,10]\n",
    "number = int(input(\"Enter the number : \"))         #8\n",
    "count = 0\n",
    "while True:\n",
    "    print(count)\n",
    "    print(lst)\n",
    "    length = len(lst)\n",
    "    count+=1\n",
    "    lst_1 = lst[0:length//2]\n",
    "    lst_2 = lst[length//2::]\n",
    "    if lst_1[-1]<number:\n",
    "        lst = lst_2\n",
    "    elif lst_1[-1]>number:\n",
    "        lst = lst_1\n",
    "    else :\n",
    "        print(\"Match found\")\n",
    "        break\n",
    "\n",
    "\n"
   ]
  },
  {
   "cell_type": "markdown",
   "metadata": {},
   "source": [
    "lst = [1,2,3,4,5,6,7,8,9,10]\n",
    "number = 8\n",
    "1st iteration : \n",
    "\n",
    "            lst1 = [1,2,3,4,5]\n",
    "            lst2 = [6,7,8,9,10]\n",
    "        \n",
    "2nd iteration :\n",
    "            lst1 = [6,7]\n",
    "            lst2 = [8,9,10]\n",
    "\n",
    "3rd iteration : \n",
    "            lst1 = [8]\n",
    "            lst2 = [9,10]\n"
   ]
  },
  {
   "cell_type": "code",
   "execution_count": 11,
   "metadata": {},
   "outputs": [
    {
     "name": "stdout",
     "output_type": "stream",
     "text": [
      "0\n",
      "1\n",
      "2\n",
      "3\n",
      "4\n",
      "5\n",
      "6\n",
      "n\n"
     ]
    }
   ],
   "source": [
    "# Linear time complexity : O(n)\n",
    "lst = [0,1,2,3,4,5,6,'n']\n",
    "for i in lst:\n",
    "    print(i)"
   ]
  },
  {
   "cell_type": "code",
   "execution_count": 12,
   "metadata": {},
   "outputs": [
    {
     "name": "stdout",
     "output_type": "stream",
     "text": [
      "36\n",
      "[1, 2, 3, 4, 5, 6, 2, 4, 6, 8, 10, 12, 3, 6, 9, 12, 15, 18, 4, 8, 12, 16, 20, 24, 5, 10, 15, 20, 25, 30, 6, 12, 18, 24, 30, 36]\n"
     ]
    }
   ],
   "source": [
    "# Quadratic time complexity : O(n^2)\n",
    "lst = [1,2,3,4,5,6,7]\n",
    "new_lst = []\n",
    "count = 0\n",
    "for i in lst:\n",
    "    for j in lst:\n",
    "        count+=1\n",
    "        new_lst.append(i*j)\n",
    "\n",
    "print(count)\n",
    "print(new_lst)\n"
   ]
  },
  {
   "cell_type": "code",
   "execution_count": 14,
   "metadata": {},
   "outputs": [
    {
     "name": "stdout",
     "output_type": "stream",
     "text": [
      "1 ------------> 1\n",
      "2 ------------> 2\n",
      "3 ------------> 6\n",
      "4 ------------> 24\n",
      "5 ------------> 120\n",
      "15\n"
     ]
    }
   ],
   "source": [
    "# factorial time complexity - O(n!)\n",
    "\n",
    "number = int(input(\"Enter the range of numbers\"))\n",
    "count = 0\n",
    "for i in range(1,number+1):\n",
    "    product = 1\n",
    "    for j in range(1,i+1):\n",
    "        count+=1\n",
    "        product *=j\n",
    "\n",
    "    print(i,\"------------>\",product) \n",
    "\n",
    "print(count)  \n"
   ]
  },
  {
   "cell_type": "code",
   "execution_count": 16,
   "metadata": {},
   "outputs": [
    {
     "name": "stdout",
     "output_type": "stream",
     "text": [
      "0 1 1 2 3 5 8 13 21 34 "
     ]
    }
   ],
   "source": [
    "# write a program to get the fibonacci series from 0 to 50\n",
    "# [0,1,1,2,3,5,8,13,21,34,55]\n",
    "# linear time complexity : O(n)\n",
    "a = 0\n",
    "b = 1\n",
    "print(a,end = \" \")\n",
    "while b<50:\n",
    "    print(b,end = \" \")\n",
    "    temp = a\n",
    "    a = b\n",
    "    b = temp+b\n"
   ]
  },
  {
   "cell_type": "code",
   "execution_count": null,
   "metadata": {},
   "outputs": [],
   "source": [
    "# exponential time complexity : O(n^2)\n",
    "def fibonacci(n):\n",
    "    if n<=1:\n",
    "        return n\n",
    "    else:\n",
    "        return fibonacci(n-1) + fibonacci(n-2)\n",
    "    "
   ]
  }
 ],
 "metadata": {
  "kernelspec": {
   "display_name": "Python 3",
   "language": "python",
   "name": "python3"
  },
  "language_info": {
   "codemirror_mode": {
    "name": "ipython",
    "version": 3
   },
   "file_extension": ".py",
   "mimetype": "text/x-python",
   "name": "python",
   "nbconvert_exporter": "python",
   "pygments_lexer": "ipython3",
   "version": "3.9.13"
  },
  "orig_nbformat": 4
 },
 "nbformat": 4,
 "nbformat_minor": 2
}
